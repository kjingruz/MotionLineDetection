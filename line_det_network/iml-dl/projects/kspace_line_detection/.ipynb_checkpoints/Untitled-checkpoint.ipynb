{
 "cells": [
  {
   "cell_type": "code",
   "execution_count": 1,
   "id": "43566f89-18f9-420c-97fa-088323150cb4",
   "metadata": {},
   "outputs": [
    {
     "name": "stdout",
     "output_type": "stream",
     "text": [
      "python: can't open file '/Users/kjingruz/Library/CloudStorage/OneDrive-McMasterUniversity/Research/Chiew/T2starLineDet/line_det_network/iml-dl/projects/kspace_line_detection/core/Main.py': [Errno 2] No such file or directory\n"
     ]
    }
   ],
   "source": [
    "!python ../../core/Main.py --config_path .projects/kspace_line_detection/config_train_3D_thr_class.yaml"
   ]
  },
  {
   "cell_type": "code",
   "execution_count": null,
   "id": "b6dbb95d-c3e5-4a9f-989d-98afc3856441",
   "metadata": {},
   "outputs": [],
   "source": []
  }
 ],
 "metadata": {
  "kernelspec": {
   "display_name": "Python 3 (ipykernel)",
   "language": "python",
   "name": "python3"
  },
  "language_info": {
   "codemirror_mode": {
    "name": "ipython",
    "version": 3
   },
   "file_extension": ".py",
   "mimetype": "text/x-python",
   "name": "python",
   "nbconvert_exporter": "python",
   "pygments_lexer": "ipython3",
   "version": "3.11.8"
  }
 },
 "nbformat": 4,
 "nbformat_minor": 5
}
