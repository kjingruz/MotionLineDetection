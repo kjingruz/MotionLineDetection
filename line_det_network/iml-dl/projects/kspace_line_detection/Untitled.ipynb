{
 "cells": [
  {
   "cell_type": "code",
   "execution_count": 7,
   "id": "43566f89-18f9-420c-97fa-088323150cb4",
   "metadata": {},
   "outputs": [
    {
     "name": "stdout",
     "output_type": "stream",
     "text": [
      "INFO:root:------------------------------- DEEP LEARNING FRAMEWORK *IML-COMPAI-DL*  -------------------------------\n",
      "INFO:root:[IML-COMPAI-DL::main] Success: Loaded configuration file at: config_train_3D_thr_class.yaml\n",
      "INFO:root:[Main::setup_experiment]: ################ Starting setup ################\n",
      "Traceback (most recent call last):\n",
      "  File \"/Users/kjingruz/Library/CloudStorage/OneDrive-McMasterUniversity/Research/Chiew/T2starLineDet/line_det_network/iml-dl/projects/kspace_line_detection/../../core/Main.py\", line 104, in <module>\n",
      "    Main(config_file).setup_experiment()\n",
      "  File \"/Users/kjingruz/Library/CloudStorage/OneDrive-McMasterUniversity/Research/Chiew/T2starLineDet/line_det_network/iml-dl/projects/kspace_line_detection/../../core/Main.py\", line 42, in setup_experiment\n",
      "    configurator_class = import_module(self.config_file['configurator']['module_name'],\n",
      "                         ^^^^^^^^^^^^^^^^^^^^^^^^^^^^^^^^^^^^^^^^^^^^^^^^^^^^^^^^^^^^^^\n",
      "  File \"/Users/kjingruz/Library/CloudStorage/OneDrive-McMasterUniversity/Research/Chiew/T2starLineDet/line_det_network/iml-dl/core/dl_utils/config_utils.py\", line 19, in import_module\n",
      "    module_ = importlib.import_module(module_name)\n",
      "              ^^^^^^^^^^^^^^^^^^^^^^^^^^^^^^^^^^^^\n",
      "  File \"/opt/anaconda3/lib/python3.11/importlib/__init__.py\", line 126, in import_module\n",
      "    return _bootstrap._gcd_import(name[level:], package, level)\n",
      "           ^^^^^^^^^^^^^^^^^^^^^^^^^^^^^^^^^^^^^^^^^^^^^^^^^^^^\n",
      "  File \"<frozen importlib._bootstrap>\", line 1204, in _gcd_import\n",
      "  File \"<frozen importlib._bootstrap>\", line 1176, in _find_and_load\n",
      "  File \"<frozen importlib._bootstrap>\", line 1126, in _find_and_load_unlocked\n",
      "  File \"<frozen importlib._bootstrap>\", line 241, in _call_with_frames_removed\n",
      "  File \"<frozen importlib._bootstrap>\", line 1204, in _gcd_import\n",
      "  File \"<frozen importlib._bootstrap>\", line 1176, in _find_and_load\n",
      "  File \"<frozen importlib._bootstrap>\", line 1140, in _find_and_load_unlocked\n",
      "ModuleNotFoundError: No module named 'core'\n"
     ]
    }
   ],
   "source": [
    "!python ../../core/Main.py --config_path config_train_3D_thr_class.yaml"
   ]
  },
  {
   "cell_type": "code",
   "execution_count": null,
   "id": "b6dbb95d-c3e5-4a9f-989d-98afc3856441",
   "metadata": {},
   "outputs": [],
   "source": []
  }
 ],
 "metadata": {
  "kernelspec": {
   "display_name": "Python 3 (ipykernel)",
   "language": "python",
   "name": "python3"
  },
  "language_info": {
   "codemirror_mode": {
    "name": "ipython",
    "version": 3
   },
   "file_extension": ".py",
   "mimetype": "text/x-python",
   "name": "python",
   "nbconvert_exporter": "python",
   "pygments_lexer": "ipython3",
   "version": "3.11.8"
  }
 },
 "nbformat": 4,
 "nbformat_minor": 5
}
