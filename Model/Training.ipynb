{
 "cells": [
  {
   "cell_type": "code",
   "execution_count": null,
   "id": "02fd7813-e7f8-4ae1-a32e-7f340bb15124",
   "metadata": {},
   "outputs": [],
   "source": [
    "!python improved-line-detection-network.py"
   ]
  },
  {
   "cell_type": "code",
   "execution_count": null,
   "id": "bcb0fde6-acbf-4820-a626-e0e337623133",
   "metadata": {},
   "outputs": [],
   "source": []
  }
 ],
 "metadata": {
  "kernelspec": {
   "display_name": "Python 3 (ipykernel)",
   "language": "python",
   "name": "python3"
  },
  "language_info": {
   "codemirror_mode": {
    "name": "ipython",
    "version": 3
   },
   "file_extension": ".py",
   "mimetype": "text/x-python",
   "name": "python",
   "nbconvert_exporter": "python",
   "pygments_lexer": "ipython3",
   "version": "3.11.7"
  }
 },
 "nbformat": 4,
 "nbformat_minor": 5
}
